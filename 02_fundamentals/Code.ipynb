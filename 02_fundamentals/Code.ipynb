{
  "cells": [
    {
      "cell_type": "markdown",
      "metadata": {
        "colab_type": "text",
        "id": "view-in-github"
      },
      "source": [
        "<a href=\"https://colab.research.google.com/github/Kuoste/DLFS_code/blob/master/02_fundamentals/Code.ipynb\" target=\"_parent\"><img src=\"https://colab.research.google.com/assets/colab-badge.svg\" alt=\"Open In Colab\"/></a>"
      ]
    },
    {
      "cell_type": "code",
      "execution_count": 11,
      "metadata": {
        "id": "dbuiT0UzJAhY"
      },
      "outputs": [],
      "source": [
        "import numpy as np\n",
        "from numpy import ndarray\n",
        "\n",
        "from typing import Callable, Dict, Tuple, List\n",
        "\n",
        "np.set_printoptions(precision=4)\n",
        "# GRAPHS_IMG_FILEPATH = \"/Users/seth/development/01_deep-learning-from-scratch/images/02_fundamentals/graphs/\""
      ]
    },
    {
      "cell_type": "code",
      "execution_count": 2,
      "metadata": {
        "id": "3CsduyWFJAhZ"
      },
      "outputs": [],
      "source": [
        "%load_ext autoreload\n",
        "%autoreload 2"
      ]
    },
    {
      "cell_type": "code",
      "execution_count": 37,
      "metadata": {
        "id": "eLOPud0XJAhZ"
      },
      "outputs": [],
      "source": [
        "TEST_ALL = True\n",
        "\n",
        "USE_BOSTON = False"
      ]
    },
    {
      "cell_type": "markdown",
      "metadata": {
        "id": "GwY19Ze2JAha"
      },
      "source": [
        "# Boston data"
      ]
    },
    {
      "cell_type": "code",
      "execution_count": 44,
      "metadata": {
        "id": "vc1_C__hJAha"
      },
      "outputs": [
        {
          "name": "stdout",
          "output_type": "stream",
          "text": [
            "Using California\n"
          ]
        }
      ],
      "source": [
        "# load boston is no longer available and the usage is discouraged.\n",
        "#from sklearn.datasets import load_boston\n",
        "\n",
        "if USE_BOSTON:\n",
        "  print(\"Using Boston\")\n",
        "  import pandas as pd\n",
        "  data_url = \"http://lib.stat.cmu.edu/datasets/boston\"\n",
        "  raw_df = pd.read_csv(data_url, sep=r\"\\s+\", skiprows=22, header=None)\n",
        "  data = np.hstack([raw_df.values[::2, :], raw_df.values[1::2, :2]])\n",
        "  target = raw_df.values[1::2, 2]\n",
        "  features = [\"CRIM\", \"ZN\", \"INDUS\", \"CHAS\", \"NOX\", \"RM\", \"AGE\", \"DIS\", \"RAD\", \"TAX\", \"PTRATIO\", \"B\", \"LSTAT\"]\n",
        "else:\n",
        "  print(\"Using California\")\n",
        "  from sklearn.datasets import fetch_california_housing\n",
        "  housing = fetch_california_housing()\n",
        "  data = housing.data\n",
        "  target = housing.target\n",
        "  features = housing.feature_names  # If you need feature names\n",
        "# else:\n",
        "#   print(\"Using Ames\")\n",
        "#   from sklearn.datasets import fetch_openml\n",
        "#   housing = fetch_openml(name=\"house_prices\", as_frame=True)\n",
        "#   data = housing.data.to_numpy()\n",
        "#   target = housing.target.to_numpy()\n",
        "#   features = housing.feature_names  # If you need feature names\n",
        "\n"
      ]
    },
    {
      "cell_type": "code",
      "execution_count": 45,
      "metadata": {
        "id": "EsOvW4wNJAhb"
      },
      "outputs": [],
      "source": [
        "#boston = load_boston()"
      ]
    },
    {
      "cell_type": "code",
      "execution_count": 46,
      "metadata": {
        "id": "GyfxbsrPJAhb"
      },
      "outputs": [],
      "source": [
        "#data = boston.data\n",
        "#target = boston.target\n",
        "#features = boston.feature_names"
      ]
    },
    {
      "cell_type": "markdown",
      "metadata": {
        "id": "wtULbMBpJAhb"
      },
      "source": [
        "# SciKit Learn Linear Regression"
      ]
    },
    {
      "cell_type": "markdown",
      "metadata": {
        "id": "902hQk-pJAhb"
      },
      "source": [
        "## Data prep"
      ]
    },
    {
      "cell_type": "code",
      "execution_count": 47,
      "metadata": {
        "id": "drCX9N28JAhb"
      },
      "outputs": [],
      "source": [
        "from sklearn.preprocessing import StandardScaler\n",
        "s = StandardScaler()\n",
        "data = s.fit_transform(data)"
      ]
    },
    {
      "cell_type": "code",
      "execution_count": 48,
      "metadata": {
        "id": "cLMRRc7BJAhb"
      },
      "outputs": [],
      "source": [
        "from sklearn.model_selection import train_test_split\n",
        "X_train, X_test, y_train, y_test = train_test_split(data, target, test_size=0.3, random_state=80718)\n",
        "\n",
        "y_train, y_test = y_train.reshape(-1, 1), y_test.reshape(-1, 1)"
      ]
    },
    {
      "cell_type": "markdown",
      "metadata": {
        "id": "KSMzjpV6JAhb"
      },
      "source": [
        "## Regression"
      ]
    },
    {
      "cell_type": "code",
      "execution_count": 22,
      "metadata": {
        "id": "Pjoi4ppIJAhb",
        "scrolled": true
      },
      "outputs": [],
      "source": [
        "from sklearn.linear_model import LinearRegression\n",
        "lr = LinearRegression(fit_intercept=True)\n",
        "lr.fit(X_train, y_train)\n",
        "preds = lr.predict(X_test)"
      ]
    },
    {
      "cell_type": "code",
      "execution_count": null,
      "metadata": {
        "id": "_x-uaOyFJAhc"
      },
      "outputs": [],
      "source": [
        "import matplotlib.pyplot as plt"
      ]
    },
    {
      "cell_type": "code",
      "execution_count": null,
      "metadata": {
        "colab": {
          "base_uri": "https://localhost:8080/",
          "height": 493
        },
        "id": "oxvqeMaCJAhc",
        "outputId": "93013084-6d6a-4899-fea3-756f70961cfb"
      },
      "outputs": [
        {
          "data": {
            "image/png": "[encoded data removed]",
            "text/plain": [
              "<Figure size 640x480 with 1 Axes>"
            ]
          },
          "metadata": {},
          "output_type": "display_data"
        }
      ],
      "source": [
        "plt.xlabel(\"Predicted value\")\n",
        "plt.ylabel(\"Actual value\")\n",
        "plt.title(\"Predicted vs. Actual values for\\nnLinear Regression model\")\n",
        "plotMax = max(preds.max(), y_test.max())\n",
        "plt.xlim([0, plotMax])\n",
        "plt.ylim([0, plotMax])\n",
        "plt.scatter(preds, y_test)\n",
        "plt.plot([0, plotMax], [0, plotMax]);\n",
        "# plt.savefig(IMG_FILEPATH + \"00_linear_real_pred_vs_actual.png\");"
      ]
    },
    {
      "cell_type": "markdown",
      "metadata": {
        "id": "0cTG02fGJAhc"
      },
      "source": [
        "## Testing changing feature"
      ]
    },
    {
      "cell_type": "code",
      "execution_count": null,
      "metadata": {
        "colab": {
          "base_uri": "https://localhost:8080/",
          "height": 493
        },
        "id": "kYgxMLqPJAhc",
        "outputId": "611561e1-fd74-42dc-948e-935941667daa"
      },
      "outputs": [
        {
          "data": {
            "image/png": "[encoded data removed]",
            "text/plain": [
              "<Figure size 640x480 with 1 Axes>"
            ]
          },
          "metadata": {},
          "output_type": "display_data"
        }
      ],
      "source": [
        "\n",
        "# Find the index of the maximum value of the coefficients\n",
        "most_important_index = np.argmax(lr.coef_)\n",
        "\n",
        "plt.scatter(X_test[:, most_important_index], y_test)\n",
        "plt.xlabel(\"Most important feature from our data\")\n",
        "plt.ylabel(\"Target\")\n",
        "plt.title(\"Relationship between most\\nimportant feature and target\");\n",
        "# plt.savefig(IMG_FILEPATH + \"02_most_important_feature_vs_target.png\")"
      ]
    },
    {
      "cell_type": "markdown",
      "metadata": {
        "id": "mKYlp1WYJAhc"
      },
      "source": [
        "Non linear relationship"
      ]
    },
    {
      "cell_type": "markdown",
      "metadata": {
        "id": "1w6PGMAMJAhc"
      },
      "source": [
        "## Model error"
      ]
    },
    {
      "cell_type": "code",
      "execution_count": 30,
      "metadata": {
        "id": "7mFsS3_uJAhc"
      },
      "outputs": [],
      "source": [
        "def mae(preds: ndarray, actuals: ndarray):\n",
        "    '''\n",
        "    Compute mean absolute error.\n",
        "    '''\n",
        "    return np.mean(np.abs(preds - actuals))\n",
        "\n",
        "def rmse(preds: ndarray, actuals: ndarray):\n",
        "    '''\n",
        "    Compute root mean squared error.\n",
        "    '''\n",
        "    return np.sqrt(np.mean(np.power(preds - actuals, 2)))"
      ]
    },
    {
      "cell_type": "code",
      "execution_count": null,
      "metadata": {
        "colab": {
          "base_uri": "https://localhost:8080/"
        },
        "id": "0_jvna6YJAhd",
        "outputId": "c9345650-9a20-491e-ec8b-b43ee3880edc"
      },
      "outputs": [
        {
          "name": "stdout",
          "output_type": "stream",
          "text": [
            "Mean absolute error: 0.5312 \n",
            "Root mean squared error: 0.7154\n"
          ]
        }
      ],
      "source": [
        "print(\"Mean absolute error:\", round(mae(preds, y_test), 4), \"\\n\"\n",
        "      \"Root mean squared error:\", round(rmse(preds, y_test), 4))"
      ]
    },
    {
      "cell_type": "code",
      "execution_count": null,
      "metadata": {
        "colab": {
          "base_uri": "https://localhost:8080/"
        },
        "id": "J6wpnbrZJAhd",
        "outputId": "57cd976b-cb85-4b84-fe26-548ab1b03334",
        "scrolled": true
      },
      "outputs": [
        {
          "data": {
            "text/plain": [
              "array([[ 0.83,  0.12, -0.27,  0.3 , -0.01, -0.03, -0.9 , -0.86]])"
            ]
          },
          "execution_count": 60,
          "metadata": {},
          "output_type": "execute_result"
        }
      ],
      "source": [
        "import numpy as np\n",
        "np.round(lr.coef_, 2)"
      ]
    },
    {
      "cell_type": "markdown",
      "metadata": {
        "id": "rQly8JbaJAhd"
      },
      "source": [
        "## Manual linear regression"
      ]
    },
    {
      "cell_type": "code",
      "execution_count": 33,
      "metadata": {
        "id": "ByP-7JN-JAhd"
      },
      "outputs": [],
      "source": [
        "def forward_linear_regression(X_batch: ndarray,\n",
        "                              y_batch: ndarray,\n",
        "                              weights: Dict[str, ndarray]\n",
        "                              )-> Tuple[float, Dict[str, ndarray]]:\n",
        "    '''\n",
        "    Forward pass for the step-by-step linear regression.\n",
        "    '''\n",
        "    # assert batch sizes of X and y are equal\n",
        "    assert X_batch.shape[0] == y_batch.shape[0]\n",
        "\n",
        "    # assert that matrix multiplication can work\n",
        "    assert X_batch.shape[1] == weights['W'].shape[0]\n",
        "\n",
        "    # assert that B is simply a 1x1 ndarray\n",
        "    assert weights['B'].shape[0] == weights['B'].shape[1] == 1\n",
        "\n",
        "    # compute the operations on the forward pass\n",
        "    N = np.dot(X_batch, weights['W'])\n",
        "\n",
        "    P = N + weights['B']\n",
        "\n",
        "    loss = np.mean(np.power(y_batch - P, 2))\n",
        "\n",
        "    # save the information computed on the forward pass\n",
        "    forward_info: Dict[str, ndarray] = {}\n",
        "    forward_info['X'] = X_batch\n",
        "    forward_info['N'] = N\n",
        "    forward_info['P'] = P\n",
        "    forward_info['y'] = y_batch\n",
        "\n",
        "    return loss, forward_info"
      ]
    },
    {
      "cell_type": "code",
      "execution_count": 34,
      "metadata": {
        "id": "cJsYJAzUJAhd"
      },
      "outputs": [],
      "source": [
        "def to_2d_np(a: ndarray,\n",
        "             type: str = \"col\") -> ndarray:\n",
        "    '''\n",
        "    Turns a 1D Tensor into 2D\n",
        "    '''\n",
        "\n",
        "    assert a.ndim == 1, \\\n",
        "    \"Input tensors must be 1 dimensional\"\n",
        "\n",
        "    if type == \"col\":\n",
        "        return a.reshape(-1, 1)\n",
        "    elif type == \"row\":\n",
        "        return a.reshape(1, -1)"
      ]
    },
    {
      "cell_type": "code",
      "execution_count": 35,
      "metadata": {
        "id": "DnYcrigzJAhd"
      },
      "outputs": [],
      "source": [
        "def permute_data(X: ndarray, y: ndarray):\n",
        "    '''\n",
        "    Permute X and y, using the same permutation, along axis=0\n",
        "    '''\n",
        "    perm = np.random.permutation(X.shape[0])\n",
        "    return X[perm], y[perm]"
      ]
    },
    {
      "cell_type": "code",
      "execution_count": 36,
      "metadata": {
        "id": "HxyI_EKJJAhd"
      },
      "outputs": [],
      "source": [
        "def loss_gradients(forward_info: Dict[str, ndarray],\n",
        "                   weights: Dict[str, ndarray]) -> Dict[str, ndarray]:\n",
        "    '''\n",
        "    Compute dLdW and dLdB for the step-by-step linear regression model.\n",
        "    '''\n",
        "    batch_size = forward_info['X'].shape[0]\n",
        "\n",
        "    dLdP = -2 * (forward_info['y'] - forward_info['P'])\n",
        "\n",
        "    dPdN = np.ones_like(forward_info['N'])\n",
        "\n",
        "    dPdB = np.ones_like(weights['B'])\n",
        "\n",
        "    dLdN = dLdP * dPdN\n",
        "\n",
        "    dNdW = np.transpose(forward_info['X'], (1, 0))\n",
        "\n",
        "    # need to use matrix multiplication here,\n",
        "    # with dNdW on the left (see note at the end of last chapter)\n",
        "    dLdW = np.dot(dNdW, dLdN)\n",
        "\n",
        "    # need to sum along dimension representing the batch size:\n",
        "    # see note near the end of the chapter\n",
        "    dLdB = (dLdP * dPdB).sum(axis=0)\n",
        "\n",
        "    loss_gradients: Dict[str, ndarray] = {}\n",
        "    loss_gradients['W'] = dLdW\n",
        "    loss_gradients['B'] = dLdB\n",
        "\n",
        "    return loss_gradients"
      ]
    },
    {
      "cell_type": "code",
      "execution_count": 37,
      "metadata": {
        "id": "k6fYNw42JAhd"
      },
      "outputs": [],
      "source": [
        "Batch = Tuple[ndarray, ndarray]\n",
        "\n",
        "def generate_batch(X: ndarray,\n",
        "                   y: ndarray,\n",
        "                   start: int = 0,\n",
        "                   batch_size: int = 10) -> Batch:\n",
        "    '''\n",
        "    Generate batch from X and y, given a start position\n",
        "    '''\n",
        "    assert X.ndim == y.ndim == 2, \\\n",
        "    \"X and Y must be 2 dimensional\"\n",
        "\n",
        "    if start+batch_size > X.shape[0]:\n",
        "        batch_size = X.shape[0] - start\n",
        "\n",
        "    X_batch, y_batch = X[start:start+batch_size], y[start:start+batch_size]\n",
        "\n",
        "    return X_batch, y_batch"
      ]
    },
    {
      "cell_type": "code",
      "execution_count": 38,
      "metadata": {
        "id": "WjNy38e6JAhd"
      },
      "outputs": [],
      "source": [
        "def forward_loss(X: ndarray,\n",
        "                 y: ndarray,\n",
        "                 weights: Dict[str, ndarray]) -> Tuple[Dict[str, ndarray], float]:\n",
        "    '''\n",
        "    Generate predictions and calculate loss for a step-by-step linear regression\n",
        "    (used mostly during inference).\n",
        "    '''\n",
        "    N = np.dot(X, weights['W'])\n",
        "\n",
        "    P = N + weights['B']\n",
        "\n",
        "    loss = np.mean(np.power(y - P, 2))\n",
        "\n",
        "    forward_info: Dict[str, ndarray] = {}\n",
        "    forward_info['X'] = X\n",
        "    forward_info['N'] = N\n",
        "    forward_info['P'] = P\n",
        "    forward_info['y'] = y\n",
        "\n",
        "    return forward_info, loss"
      ]
    },
    {
      "cell_type": "code",
      "execution_count": 39,
      "metadata": {
        "id": "g0HLESy-JAhd"
      },
      "outputs": [],
      "source": [
        "def init_weights(n_in: int) -> Dict[str, ndarray]:\n",
        "    '''\n",
        "    Initialize weights on first forward pass of model.\n",
        "    '''\n",
        "\n",
        "    weights: Dict[str, ndarray] = {}\n",
        "    W = np.random.randn(n_in, 1)\n",
        "    B = np.random.randn(1, 1)\n",
        "\n",
        "    weights['W'] = W\n",
        "    weights['B'] = B\n",
        "\n",
        "    return weights"
      ]
    },
    {
      "cell_type": "code",
      "execution_count": 40,
      "metadata": {
        "id": "9aED3UHtJAhe"
      },
      "outputs": [],
      "source": [
        "def train(X: ndarray,\n",
        "          y: ndarray,\n",
        "          n_iter: int = 1000,\n",
        "          learning_rate: float = 0.01,\n",
        "          batch_size: int = 100,\n",
        "          return_losses: bool = False,\n",
        "          return_weights: bool = False,\n",
        "          seed: int = 1) -> None:\n",
        "    '''\n",
        "    Train model for a certain number of epochs.\n",
        "    '''\n",
        "    if seed:\n",
        "        np.random.seed(seed)\n",
        "    start = 0\n",
        "\n",
        "    # Initialize weights\n",
        "    weights = init_weights(X.shape[1])\n",
        "\n",
        "    # Permute data\n",
        "    X, y = permute_data(X, y)\n",
        "\n",
        "    if return_losses:\n",
        "        losses = []\n",
        "\n",
        "    for i in range(n_iter):\n",
        "\n",
        "        # Generate batch\n",
        "        if start >= X.shape[0]:\n",
        "            X, y = permute_data(X, y)\n",
        "            start = 0\n",
        "\n",
        "        X_batch, y_batch = generate_batch(X, y, start, batch_size)\n",
        "        start += batch_size\n",
        "\n",
        "        # Train net using generated batch\n",
        "        forward_info, loss = forward_loss(X_batch, y_batch, weights)\n",
        "\n",
        "        if return_losses:\n",
        "            losses.append(loss)\n",
        "\n",
        "        loss_grads = loss_gradients(forward_info, weights)\n",
        "        for key in weights.keys():\n",
        "            weights[key] -= learning_rate * loss_grads[key]\n",
        "\n",
        "    if return_weights:\n",
        "        return losses, weights\n",
        "\n",
        "    return None"
      ]
    },
    {
      "cell_type": "code",
      "execution_count": 41,
      "metadata": {
        "id": "EqlUUwdSJAhe"
      },
      "outputs": [],
      "source": [
        "train_info = train(X_train, y_train,\n",
        "                   n_iter = 1000,\n",
        "                   learning_rate = 0.001,\n",
        "                   batch_size=23,\n",
        "                   return_losses=True,\n",
        "                   return_weights=True,\n",
        "                   seed=180708)\n",
        "losses = train_info[0]\n",
        "weights = train_info[1]"
      ]
    },
    {
      "cell_type": "code",
      "execution_count": null,
      "metadata": {
        "colab": {
          "base_uri": "https://localhost:8080/",
          "height": 430
        },
        "id": "9EucOIltJAhe",
        "outputId": "244b49b0-06ac-4b8d-a1bc-833db1e66d7e",
        "scrolled": true
      },
      "outputs": [],
      "source": [
        "plt.plot(list(range(1000)), losses);"
      ]
    },
    {
      "cell_type": "code",
      "execution_count": 43,
      "metadata": {
        "id": "eqJ_2NKAJAhe"
      },
      "outputs": [],
      "source": [
        "def predict(X: ndarray,\n",
        "            weights: Dict[str, ndarray]):\n",
        "    '''\n",
        "    Generate predictions from the step-by-step linear regression model.\n",
        "    '''\n",
        "\n",
        "    N = np.dot(X, weights['W'])\n",
        "\n",
        "    return N + weights['B']"
      ]
    },
    {
      "cell_type": "code",
      "execution_count": 44,
      "metadata": {
        "id": "PGOI_Ek3JAhe"
      },
      "outputs": [],
      "source": [
        "preds = predict(X_test, weights)"
      ]
    },
    {
      "cell_type": "code",
      "execution_count": null,
      "metadata": {
        "colab": {
          "base_uri": "https://localhost:8080/"
        },
        "id": "msCCRjEdJAhe",
        "outputId": "f56b573b-6177-4773-d15d-f3ee1cc2745b"
      },
      "outputs": [],
      "source": [
        "print(\"Mean absolute error:\", round(mae(preds, y_test), 4), \"\\n\"\n",
        "      \"Root mean squared error:\", round(rmse(preds, y_test), 4))"
      ]
    },
    {
      "cell_type": "code",
      "execution_count": null,
      "metadata": {
        "colab": {
          "base_uri": "https://localhost:8080/"
        },
        "id": "a2Ml0JTGJAhe",
        "outputId": "b2fd9b51-cfc8-46c7-dd14-d0187ceb3a58"
      },
      "outputs": [],
      "source": [
        "np.round(y_test.mean(), 4)"
      ]
    },
    {
      "cell_type": "code",
      "execution_count": null,
      "metadata": {
        "colab": {
          "base_uri": "https://localhost:8080/"
        },
        "id": "vyZhAkWIJAhe",
        "outputId": "b224e06b-dea6-4a50-90c1-983b851d032b",
        "scrolled": true
      },
      "outputs": [],
      "source": [
        "np.round(rmse(preds, y_test) / y_test.mean(), 4)"
      ]
    },
    {
      "cell_type": "markdown",
      "metadata": {
        "id": "SSBkgPoOJAhf"
      },
      "source": [
        "RMSE is 23% on average of y."
      ]
    },
    {
      "cell_type": "code",
      "execution_count": null,
      "metadata": {
        "colab": {
          "base_uri": "https://localhost:8080/",
          "height": 493
        },
        "id": "e_itJoYpJAhf",
        "outputId": "09fa6475-858f-45a9-bd7c-24f072f565bc"
      },
      "outputs": [],
      "source": [
        "plt.xlabel(\"Predicted value\")\n",
        "plt.ylabel(\"Actual value\")\n",
        "plt.title(\"Predicted vs. Actual values for\\ncustom linear regression model\");\n",
        "plt.xlim([0, 51])\n",
        "plt.ylim([0, 51])\n",
        "plt.scatter(preds, y_test)\n",
        "plt.plot([0, 51], [0, 51]);\n",
        "# plt.savefig(GRAPHS_IMG_FILEPATH + \"01_linear_custom_pred_vs_actual.png\");"
      ]
    },
    {
      "cell_type": "code",
      "execution_count": 49,
      "metadata": {
        "id": "O3MRg_W8JAhf"
      },
      "outputs": [],
      "source": [
        "NUM = 40\n",
        "a = np.repeat(X_test[:,:-1].mean(axis=0, keepdims=True), NUM, axis=0)\n",
        "b = np.linspace(-1.5, 3.5, NUM).reshape(NUM, 1)\n",
        "\n",
        "test_feature = np.concatenate([a, b], axis=1)\n",
        "test_preds = predict(test_feature, weights)[:, 0]"
      ]
    },
    {
      "cell_type": "code",
      "execution_count": null,
      "metadata": {
        "colab": {
          "base_uri": "https://localhost:8080/",
          "height": 493
        },
        "id": "7GMN_-6_JAhf",
        "outputId": "812efc67-104d-4463-8848-0caebca06e19"
      },
      "outputs": [],
      "source": [
        "plt.scatter(X_test[:, 12], y_test)\n",
        "plt.plot(np.array(test_feature[:, -1]), test_preds, linewidth=2, c='orange')\n",
        "plt.ylim([6, 51])\n",
        "plt.xlabel(\"Most important feature (normalized)\")\n",
        "plt.ylabel(\"Target/Predictions\")\n",
        "plt.title(\"Most important feature vs. target and predictions,\\n custom linear regression\");\n",
        "# plt.savefig(GRAPHS_IMG_FILEPATH + \"03_most_important_feature_vs_predictions.png\")"
      ]
    },
    {
      "cell_type": "markdown",
      "metadata": {
        "id": "LWWTie4xJAhf"
      },
      "source": [
        "## Coefficients"
      ]
    },
    {
      "cell_type": "code",
      "execution_count": null,
      "metadata": {
        "colab": {
          "base_uri": "https://localhost:8080/"
        },
        "id": "gEeDuuQ2JAhf",
        "outputId": "ecec7064-9884-48ce-bfd8-9afc03c8ae89"
      },
      "outputs": [],
      "source": [
        "np.round(weights['W'].reshape(-1), 4)"
      ]
    },
    {
      "cell_type": "code",
      "execution_count": null,
      "metadata": {
        "colab": {
          "base_uri": "https://localhost:8080/"
        },
        "id": "HZ1WkOC2JAhf",
        "outputId": "c97bbe90-1f3a-4e74-b6ea-c0e77dd4d405"
      },
      "outputs": [],
      "source": [
        "np.round(lr.coef_, 4)"
      ]
    },
    {
      "cell_type": "code",
      "execution_count": null,
      "metadata": {
        "colab": {
          "base_uri": "https://localhost:8080/"
        },
        "id": "HyKuQoNDJAhf",
        "outputId": "37dffb3c-1015-4240-dbeb-3d7a2fe932cb"
      },
      "outputs": [],
      "source": [
        "np.round(weights['B'], 4)"
      ]
    },
    {
      "cell_type": "code",
      "execution_count": null,
      "metadata": {
        "colab": {
          "base_uri": "https://localhost:8080/"
        },
        "id": "q4M1a-xkJAhg",
        "outputId": "f8834d57-63cb-43be-c47f-f7fc35180541",
        "scrolled": true
      },
      "outputs": [],
      "source": [
        "np.round(lr.intercept_, 4)"
      ]
    },
    {
      "cell_type": "markdown",
      "metadata": {
        "id": "vtCETCGCJAhg"
      },
      "source": [
        "Coefficients are the same in the SciKit Learn linear regression as in the \"custom\" linear regression."
      ]
    },
    {
      "cell_type": "markdown",
      "metadata": {
        "id": "E38yi6wxJAhg"
      },
      "source": [
        "## Theoretical relationship between most important feature and target"
      ]
    },
    {
      "cell_type": "code",
      "execution_count": 100,
      "metadata": {
        "id": "6wUjjbWiJAhg"
      },
      "outputs": [],
      "source": [
        "NUM = 40\n",
        "a = np.repeat(X_test[:,:-1].mean(axis=0, keepdims=True), NUM, axis=0)\n",
        "b = np.linspace(-1.5, 3.5, NUM).reshape(NUM, 1)"
      ]
    },
    {
      "cell_type": "code",
      "execution_count": 101,
      "metadata": {
        "id": "0A6VpY9JJAhg"
      },
      "outputs": [],
      "source": [
        "test_feature = np.concatenate([a, b], axis=1)\n",
        "preds = predict(test_feature, weights)[:, 0]"
      ]
    },
    {
      "cell_type": "code",
      "execution_count": null,
      "metadata": {
        "colab": {
          "base_uri": "https://localhost:8080/",
          "height": 447
        },
        "id": "LKEfqPGeJAhg",
        "outputId": "d7d16c0e-0378-4c9c-c6d4-e8cfc10357e7",
        "scrolled": false
      },
      "outputs": [],
      "source": [
        "plt.scatter(np.array(test_feature[:, -1]), np.array(preds))\n",
        "plt.ylim([6, 51])\n",
        "# plt.savefig(GRAPHS_IMG_FILEPATH + \"/04_relationship_most_impt_feat_preds.png\")"
      ]
    },
    {
      "cell_type": "markdown",
      "metadata": {
        "id": "aUKau90BJAhg"
      },
      "source": [
        "# Neural network regression"
      ]
    },
    {
      "cell_type": "code",
      "execution_count": 103,
      "metadata": {
        "id": "uSP8XeRRJAhg"
      },
      "outputs": [],
      "source": [
        "def sigmoid(x: ndarray) -> ndarray:\n",
        "    return 1 / (1 + np.exp(-1.0 * x))"
      ]
    },
    {
      "cell_type": "code",
      "execution_count": null,
      "metadata": {
        "colab": {
          "base_uri": "https://localhost:8080/",
          "height": 472
        },
        "id": "Nw7YvsTEJAhg",
        "outputId": "9f44e8b4-cec9-4f8b-97ec-24dbb8f19028"
      },
      "outputs": [],
      "source": [
        "plt.plot(np.arange(-5, 5, 0.01),\n",
        "         sigmoid(np.arange(-5, 5, 0.01)));\n",
        "plt.title(\"Sigmoid function plotted from x=-5 to x=5\")\n",
        "plt.xlabel(\"X\")\n",
        "plt.ylabel(\"$sigmoid(x)$\");\n",
        "# plt.savefig(GRAPHS_IMG_FILEPATH + \"05_sigmoid_function.png\")"
      ]
    },
    {
      "cell_type": "code",
      "execution_count": 105,
      "metadata": {
        "id": "GP6m9cX4JAhg"
      },
      "outputs": [],
      "source": [
        "def init_weights(input_size: int,\n",
        "                 hidden_size: int) -> Dict[str, ndarray]:\n",
        "    '''\n",
        "    Initialize weights during the forward pass for step-by-step neural network model.\n",
        "    '''\n",
        "    weights: Dict[str, ndarray] = {}\n",
        "    weights['W1'] = np.random.randn(input_size, hidden_size)\n",
        "    weights['B1'] = np.random.randn(1, hidden_size)\n",
        "    weights['W2'] = np.random.randn(hidden_size, 1)\n",
        "    weights['B2'] = np.random.randn(1, 1)\n",
        "    return weights"
      ]
    },
    {
      "cell_type": "code",
      "execution_count": null,
      "metadata": {
        "id": "zVwq9__dJAhg"
      },
      "outputs": [],
      "source": [
        "def forward_loss(X: ndarray,\n",
        "                 y: ndarray,\n",
        "                 weights: Dict[str, ndarray]\n",
        "                 ) -> Tuple[Dict[str, ndarray], float]:\n",
        "    '''\n",
        "    Compute the forward pass and the loss for the step-by-step\n",
        "    neural network model.\n",
        "    '''\n",
        "    M1 = np.dot(X, weights['W1'])\n",
        "\n",
        "    N1 = M1 + weights['B1']\n",
        "\n",
        "    O1 = sigmoid(N1)\n",
        "\n",
        "    M2 = np.dot(O1, weights['W2'])\n",
        "\n",
        "    P = M2 + weights['B2']\n",
        "\n",
        "    loss = np.mean(np.power(y - P, 2))\n",
        "\n",
        "    forward_info: Dict[str, ndarray] = {}\n",
        "    forward_info['X'] = X\n",
        "    forward_info['M1'] = M1\n",
        "    forward_info['N1'] = N1\n",
        "    forward_info['O1'] = O1\n",
        "    forward_info['M2'] = M2\n",
        "    forward_info['P'] = P\n",
        "    forward_info['y'] = y\n",
        "\n",
        "    return forward_info, loss"
      ]
    },
    {
      "cell_type": "code",
      "execution_count": null,
      "metadata": {
        "id": "2YbXfDXkJAhh"
      },
      "outputs": [],
      "source": [
        "def loss_gradients(forward_info: Dict[str, ndarray],\n",
        "                   weights: Dict[str, ndarray]) -> Dict[str, ndarray]:\n",
        "    '''\n",
        "    Compute the partial derivatives of the loss with respect to each of the parameters in the neural network.\n",
        "    '''\n",
        "    dLdP = -(forward_info['y'] - forward_info['P'])\n",
        "\n",
        "    dPdM2 = np.ones_like(forward_info['M2'])\n",
        "\n",
        "    dLdM2 = dLdP * dPdM2\n",
        "\n",
        "    dPdB2 = np.ones_like(weights['B2'])\n",
        "\n",
        "    dLdB2 = (dLdP * dPdB2).sum(axis=0)\n",
        "\n",
        "    dM2dW2 = np.transpose(forward_info['O1'], (1, 0))\n",
        "\n",
        "    dLdW2 = np.dot(dM2dW2, dLdP)\n",
        "\n",
        "    dM2dO1 = np.transpose(weights['W2'], (1, 0))\n",
        "\n",
        "    dLdO1 = np.dot(dLdM2, dM2dO1)\n",
        "\n",
        "    dO1dN1 = sigmoid(forward_info['N1']) * (1- sigmoid(forward_info['N1']))\n",
        "\n",
        "    dLdN1 = dLdO1 * dO1dN1\n",
        "\n",
        "    dN1dB1 = np.ones_like(weights['B1'])\n",
        "\n",
        "    dN1dM1 = np.ones_like(forward_info['M1'])\n",
        "\n",
        "    dLdB1 = (dLdN1 * dN1dB1).sum(axis=0)\n",
        "\n",
        "    dLdM1 = dLdN1 * dN1dM1\n",
        "\n",
        "    dM1dW1 = np.transpose(forward_info['X'], (1, 0))\n",
        "\n",
        "    dLdW1 = np.dot(dM1dW1, dLdM1)\n",
        "\n",
        "    loss_gradients: Dict[str, ndarray] = {}\n",
        "    loss_gradients['W2'] = dLdW2\n",
        "    loss_gradients['B2'] = dLdB2.sum(axis=0)\n",
        "    loss_gradients['W1'] = dLdW1\n",
        "    loss_gradients['B1'] = dLdB1.sum(axis=0)\n",
        "\n",
        "    return loss_gradients"
      ]
    },
    {
      "cell_type": "code",
      "execution_count": null,
      "metadata": {
        "id": "H-uYNLxqJAhh"
      },
      "outputs": [],
      "source": [
        "def predict(X: ndarray,\n",
        "            weights: Dict[str, ndarray]) -> ndarray:\n",
        "    '''\n",
        "    Generate predictions from the step-by-step neural network model.\n",
        "    '''\n",
        "    M1 = np.dot(X, weights['W1'])\n",
        "\n",
        "    N1 = M1 + weights['B1']\n",
        "\n",
        "    O1 = sigmoid(N1)\n",
        "\n",
        "    M2 = np.dot(O1, weights['W2'])\n",
        "\n",
        "    P = M2 + weights['B2']\n",
        "\n",
        "    return P"
      ]
    },
    {
      "cell_type": "code",
      "execution_count": null,
      "metadata": {
        "id": "VuHLkDDdJAhh"
      },
      "outputs": [],
      "source": [
        "def train(X_train: ndarray, y_train: ndarray,\n",
        "          X_test: ndarray, y_test: ndarray,\n",
        "          n_iter: int = 1000,\n",
        "          test_every: int = 1000,\n",
        "          learning_rate: float = 0.01,\n",
        "          hidden_size= 13,\n",
        "          batch_size: int = 100,\n",
        "          return_losses: bool = False,\n",
        "          return_weights: bool = False,\n",
        "          return_scores: bool = False,\n",
        "          seed: int = 1) -> None:\n",
        "\n",
        "    if seed:\n",
        "        np.random.seed(seed)\n",
        "\n",
        "    start = 0\n",
        "\n",
        "    # Initialize weights\n",
        "    weights = init_weights(X_train.shape[1],\n",
        "                           hidden_size=hidden_size)\n",
        "\n",
        "    # Permute data\n",
        "    X_train, y_train = permute_data(X_train, y_train)\n",
        "\n",
        "\n",
        "    losses = []\n",
        "\n",
        "    val_scores = []\n",
        "\n",
        "    for i in range(n_iter):\n",
        "\n",
        "        # Generate batch\n",
        "        if start >= X_train.shape[0]:\n",
        "            X_train, y_train = permute_data(X_train, y_train)\n",
        "            start = 0\n",
        "\n",
        "        X_batch, y_batch = generate_batch(X_train, y_train, start, batch_size)\n",
        "        start += batch_size\n",
        "\n",
        "        # Train net using generated batch\n",
        "        forward_info, loss = forward_loss(X_batch, y_batch, weights)\n",
        "\n",
        "        if return_losses:\n",
        "            losses.append(loss)\n",
        "\n",
        "        loss_grads = loss_gradients(forward_info, weights)\n",
        "        for key in weights.keys():\n",
        "            weights[key] -= learning_rate * loss_grads[key]\n",
        "\n",
        "        if return_scores:\n",
        "            if i % test_every == 0 and i != 0:\n",
        "                preds = predict(X_test, weights)\n",
        "                val_scores.append(r2_score(preds, y_test))\n",
        "\n",
        "    if return_weights:\n",
        "        return losses, weights, val_scores\n",
        "\n",
        "    return None"
      ]
    },
    {
      "cell_type": "code",
      "execution_count": null,
      "metadata": {
        "id": "xWdi9FQfJAhh"
      },
      "outputs": [],
      "source": [
        "if TEST_ALL:\n",
        "    num_iter = 10000\n",
        "    test_every = 1000\n",
        "    train_info = train(X_train, y_train, X_test, y_test,\n",
        "                       n_iter=num_iter,\n",
        "                       test_every = test_every,\n",
        "                       learning_rate = 0.001,\n",
        "                       batch_size=23,\n",
        "                       return_losses=False,\n",
        "                       return_weights=True,\n",
        "                       return_scores=False,\n",
        "                       seed=80718)\n",
        "    losses = train_info[0]\n",
        "    weights = train_info[1]\n",
        "    val_scores = train_info[2]"
      ]
    },
    {
      "cell_type": "code",
      "execution_count": null,
      "metadata": {
        "id": "fz3K3jsGJAhh",
        "scrolled": true
      },
      "outputs": [],
      "source": [
        "if TEST_ALL:\n",
        "    import matplotlib.pyplot as plt\n",
        "    %matplotlib inline\n",
        "    plt.ylim([-1,1])\n",
        "    plt.plot(list(range(int(num_iter / test_every - 1))), val_scores);\n",
        "    plt.xlabel(\"Batches (000s)\")\n",
        "    plt.title(\"Validation Scores\")"
      ]
    },
    {
      "cell_type": "markdown",
      "metadata": {
        "id": "XEPzzm2jJAhh"
      },
      "source": [
        "### Learning rate tuning"
      ]
    },
    {
      "cell_type": "code",
      "execution_count": null,
      "metadata": {
        "id": "SiRPVn1VJAhh"
      },
      "outputs": [],
      "source": [
        "def r2_score_lr(learning_rate):\n",
        "    train_info = train(X_train, y_train, X_test, y_test,\n",
        "                   n_iter=100000,\n",
        "                   test_every = 100000,\n",
        "                   learning_rate = learning_rate,\n",
        "                   batch_size=23,\n",
        "                   return_losses=False,\n",
        "                   return_weights=True,\n",
        "                   return_scores=False,\n",
        "                   seed=80718)\n",
        "    weights = train_info[1]\n",
        "    preds = predict(X_test, weights)\n",
        "    return r2_score(y_test, preds)"
      ]
    },
    {
      "cell_type": "code",
      "execution_count": null,
      "metadata": {
        "id": "R2wXwG98JAhh"
      },
      "outputs": [],
      "source": [
        "if TEST_ALL:\n",
        "    lrs = np.geomspace(1e-2, 1e-6, num=20)"
      ]
    },
    {
      "cell_type": "code",
      "execution_count": null,
      "metadata": {
        "id": "5HuczorvJAhh"
      },
      "outputs": [],
      "source": [
        "if TEST_ALL:\n",
        "    r2s = [r2_score_lr(lr) for lr in lrs]"
      ]
    },
    {
      "cell_type": "code",
      "execution_count": null,
      "metadata": {
        "id": "U-h72I37JAhh"
      },
      "outputs": [],
      "source": [
        "if TEST_ALL:\n",
        "    plt.semilogx(lrs, r2s)"
      ]
    },
    {
      "cell_type": "markdown",
      "metadata": {
        "id": "QxWQmTwpJAhi"
      },
      "source": [
        "## Evaluating best model"
      ]
    },
    {
      "cell_type": "code",
      "execution_count": null,
      "metadata": {
        "id": "UU0f_nx2JAhi"
      },
      "outputs": [],
      "source": [
        "train_info = train(X_train, y_train, X_test, y_test,\n",
        "                   n_iter=10000,\n",
        "                   test_every = 1000,\n",
        "                   learning_rate = 0.001,\n",
        "                   batch_size=23,\n",
        "                   return_losses=True,\n",
        "                   return_weights=True,\n",
        "                   return_scores=False,\n",
        "                   seed=180807)\n",
        "losses = train_info[0]\n",
        "weights = train_info[1]"
      ]
    },
    {
      "cell_type": "code",
      "execution_count": null,
      "metadata": {
        "id": "-KarSkLfJAhi",
        "outputId": "a74e0ea3-f12b-458f-979c-8ffbd7811912"
      },
      "outputs": [],
      "source": [
        "plt.plot(list(range(10000)), losses);"
      ]
    },
    {
      "cell_type": "code",
      "execution_count": null,
      "metadata": {
        "id": "4pW9RB_UJAhi"
      },
      "outputs": [],
      "source": [
        "preds = predict(X_test, weights)"
      ]
    },
    {
      "cell_type": "markdown",
      "metadata": {
        "id": "HkKuOD9SJAhi"
      },
      "source": [
        "## Investigation of most important features"
      ]
    },
    {
      "cell_type": "markdown",
      "metadata": {
        "id": "yiqsk9WrJAhi"
      },
      "source": [
        "Most important combinations of features are the two with absolute values of greater than 9:"
      ]
    },
    {
      "cell_type": "code",
      "execution_count": null,
      "metadata": {
        "id": "JUwhcVDOJAhi",
        "outputId": "88e37a4e-0978-435c-bfe9-c449928b6c97"
      },
      "outputs": [],
      "source": [
        "weights['W2']"
      ]
    },
    {
      "cell_type": "markdown",
      "metadata": {
        "id": "tFzN1ihcJAhi"
      },
      "source": [
        "These are at index 7 and index 9. Here are the combinations themselves:"
      ]
    },
    {
      "cell_type": "code",
      "execution_count": null,
      "metadata": {
        "id": "ZpunJeFyJAhi",
        "outputId": "69dd0805-6708-49ee-85a7-ba5fc3767231",
        "scrolled": true
      },
      "outputs": [],
      "source": [
        "weights['W1'][7]"
      ]
    },
    {
      "cell_type": "code",
      "execution_count": null,
      "metadata": {
        "id": "Wm35kFHGJAhi",
        "outputId": "ec7777df-e15f-4482-adc6-50f4c2047389"
      },
      "outputs": [],
      "source": [
        "weights['W1'][9]"
      ]
    },
    {
      "cell_type": "code",
      "execution_count": null,
      "metadata": {
        "id": "WMqT09EgJAhj",
        "outputId": "b430dd59-8731-4193-a59d-11e89cbf1152"
      },
      "outputs": [],
      "source": [
        "print(\"Mean absolute error:\", round(mae(preds, y_test), 4), \"\\n\"\n",
        "      \"Root mean squared error:\", round(rmse(preds, y_test), 4))"
      ]
    },
    {
      "cell_type": "code",
      "execution_count": null,
      "metadata": {
        "id": "7djxfEFKJAhj",
        "outputId": "5b928d9c-023e-46d1-d757-fcd4480b45b1"
      },
      "outputs": [],
      "source": [
        "plt.xlabel(\"Predicted value\")\n",
        "plt.ylabel(\"Target\")\n",
        "plt.title(\"Predicted value vs. target,\\n neural network regression\")\n",
        "plt.xlim([0, 51])\n",
        "plt.ylim([0, 51])\n",
        "plt.scatter(preds, y_test)\n",
        "plt.plot([0, 51], [0, 51]);\n",
        "# plt.savefig(GRAPHS_IMG_FILEPATH + \"07_neural_network_regression_preds_vs_target.png\");"
      ]
    },
    {
      "cell_type": "code",
      "execution_count": null,
      "metadata": {
        "id": "IE1JK4w5JAhj",
        "outputId": "13a137a8-0894-43bc-8715-c3c597b879d2"
      },
      "outputs": [],
      "source": [
        "np.round(np.mean(np.array(np.abs(preds - y_test))), 4)"
      ]
    },
    {
      "cell_type": "code",
      "execution_count": null,
      "metadata": {
        "id": "a-7zB37MJAhj",
        "outputId": "d9c95f61-f58e-4731-d128-f9937e0f0a7a"
      },
      "outputs": [],
      "source": [
        "np.round(np.mean(np.array(np.power(preds - y_test, 2))), 4)"
      ]
    },
    {
      "cell_type": "markdown",
      "metadata": {
        "id": "ER9kceOyJAhj"
      },
      "source": [
        "## Theoretical relationship between most important feature and target"
      ]
    },
    {
      "cell_type": "code",
      "execution_count": null,
      "metadata": {
        "id": "aRHbr0zpJAhj"
      },
      "outputs": [],
      "source": [
        "NUM = 40\n",
        "a = np.repeat(X_test[:,:-1].mean(axis=0, keepdims=True), NUM, axis=0)\n",
        "b = np.linspace(-1.5, 3.5, NUM).reshape(NUM, 1)\n",
        "test_feature = np.concatenate([a, b], axis=1)\n",
        "preds_test = predict(test_feature, weights)[:, 0]"
      ]
    },
    {
      "cell_type": "code",
      "execution_count": null,
      "metadata": {
        "id": "UDa5Tx7WJAhj",
        "outputId": "53d456e4-aa49-4b67-cb6e-5f147813ffd3",
        "scrolled": true
      },
      "outputs": [],
      "source": [
        "plt.scatter(X_test[:, 12], preds)\n",
        "plt.plot(np.array(test_feature[:, -1]), preds_test, linewidth=2, c='orange')\n",
        "plt.ylim([6, 51])\n",
        "plt.xlabel(\"Most important feature (normalized)\")\n",
        "plt.ylabel(\"Target/Predictions\")\n",
        "plt.title(\"Most important feature vs. target and predictions,\\n neural network regression\");\n",
        "# plt.savefig(GRAPHS_IMG_FILEPATH + \"08_neural_network_regression_impt_feat_vs_preds.png\")"
      ]
    }
  ],
  "metadata": {
    "colab": {
      "include_colab_link": true,
      "provenance": []
    },
    "kernelspec": {
      "display_name": "DeepLearnWin",
      "language": "python",
      "name": "python3"
    },
    "language_info": {
      "codemirror_mode": {
        "name": "ipython",
        "version": 3
      },
      "file_extension": ".py",
      "mimetype": "text/x-python",
      "name": "python",
      "nbconvert_exporter": "python",
      "pygments_lexer": "ipython3",
      "version": "3.13.1"
    }
  },
  "nbformat": 4,
  "nbformat_minor": 0
}
